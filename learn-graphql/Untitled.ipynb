{
 "cells": [
  {
   "cell_type": "code",
   "execution_count": 33,
   "id": "2e40a888",
   "metadata": {},
   "outputs": [],
   "source": [
    "from server import List\n",
    "import yaml\n",
    "from mako.template import Template\n",
    "import os\n",
    "import base64\n",
    "from datetime import datetime, timedelta"
   ]
  },
  {
   "cell_type": "code",
   "execution_count": 22,
   "id": "823f0bcc",
   "metadata": {},
   "outputs": [],
   "source": [
    "def generte_one_time_secret_key(size=128):\n",
    "    return base64.b64encode(os.urandom(size)).decode(\"utf-8\")"
   ]
  },
  {
   "cell_type": "code",
   "execution_count": 23,
   "id": "825e6cb9",
   "metadata": {},
   "outputs": [
    {
     "data": {
      "text/plain": [
       "'UWAf6HDscFlcJas50s0jeSSFxBmZhmZSqZd56Ne8AeQyTA3uM3o/T2/cb45sgebtdHdS/QsG4LroU3H5O5oru86gMn9+1PzqLCcjvKU4ZvPL10zWLJYQHQdEA9r8b4kaZWvnznseiojX9sQhFbKMFJK5tXivhFtI0lQJeJQgxCE='"
      ]
     },
     "execution_count": 23,
     "metadata": {},
     "output_type": "execute_result"
    }
   ],
   "source": [
    "generte_one_time_secret_key()"
   ]
  },
  {
   "cell_type": "code",
   "execution_count": null,
   "id": "4d6b1800",
   "metadata": {},
   "outputs": [],
   "source": []
  },
  {
   "cell_type": "code",
   "execution_count": 17,
   "id": "0c02b577",
   "metadata": {},
   "outputs": [],
   "source": [
    "import bcrypt"
   ]
  },
  {
   "cell_type": "code",
   "execution_count": 19,
   "id": "ffc2c480",
   "metadata": {},
   "outputs": [
    {
     "data": {
      "text/plain": [
       "'$2b$12$eVp07svA0wKkFYrfGGqWMOnzDdnEssVk0ajmgg8B2T2Nhm7OzeWcu'"
      ]
     },
     "execution_count": 19,
     "metadata": {},
     "output_type": "execute_result"
    }
   ],
   "source": [
    "bcrypt.hashpw(\"orange\".encode(\"utf-8\"), bcrypt.gensalt()).decode()"
   ]
  },
  {
   "cell_type": "code",
   "execution_count": 50,
   "id": "13358721",
   "metadata": {},
   "outputs": [
    {
     "data": {
      "text/plain": [
       "True"
      ]
     },
     "execution_count": 50,
     "metadata": {},
     "output_type": "execute_result"
    }
   ],
   "source": [
    "bcrypt.hashpw(\n",
    "    \"orange\".encode(\"utf-8\"), \n",
    "    \"$2b$12$L4Tm.VclHzPLTtyhrIDdaudXagzWNKLv5UVeSZtmpbuB8GBUvah3i\".encode(\"utf-8\")\n",
    ") == \"$2b$12$L4Tm.VclHzPLTtyhrIDdaudXagzWNKLv5UVeSZtmpbuB8GBUvah3i\".encode(\"utf-8\")"
   ]
  },
  {
   "cell_type": "code",
   "execution_count": 26,
   "id": "56b5e8a4",
   "metadata": {},
   "outputs": [],
   "source": [
    "import jwt\n",
    "from dotenv import load_dotenv"
   ]
  },
  {
   "cell_type": "code",
   "execution_count": 28,
   "id": "966ae2f7",
   "metadata": {},
   "outputs": [],
   "source": [
    "load_dotenv()\n",
    "key = os.environ[\"JWT_SECRET\"]"
   ]
  },
  {
   "cell_type": "code",
   "execution_count": 29,
   "id": "63263d38",
   "metadata": {},
   "outputs": [
    {
     "data": {
      "text/plain": [
       "'UWAf6HDscFlcJas50s0jeSSFxBmZhmZSqZd56Ne8AeQyTA3uM3o/T2/cb45sgebtdHdS/QsG4LroU3H5O5oru86gMn9+1PzqLCcjvKU4ZvPL10zWLJYQHQdEA9r8b4kaZWvnznseiojX9sQhFbKMFJK5tXivhFtI0lQJeJQgxCE='"
      ]
     },
     "execution_count": 29,
     "metadata": {},
     "output_type": "execute_result"
    }
   ],
   "source": [
    "key"
   ]
  },
  {
   "cell_type": "code",
   "execution_count": 35,
   "id": "bfda8cef",
   "metadata": {},
   "outputs": [],
   "source": [
    "now = datetime.utcnow()\n",
    "\n",
    "payload = {\n",
    "    \"iss\": \"avilay.rocks\",\n",
    "    \"iat\": now,\n",
    "    \"exp\": now + timedelta(minutes=30),\n",
    "    \"sub\": \"one\"\n",
    "}\n",
    "encoded = jwt.encode(payload, key, algorithm=\"HS256\")"
   ]
  },
  {
   "cell_type": "code",
   "execution_count": 51,
   "id": "eaa753a2",
   "metadata": {},
   "outputs": [
    {
     "data": {
      "text/plain": [
       "str"
      ]
     },
     "execution_count": 51,
     "metadata": {},
     "output_type": "execute_result"
    }
   ],
   "source": [
    "type(encoded)"
   ]
  },
  {
   "cell_type": "code",
   "execution_count": 46,
   "id": "6a5282bf",
   "metadata": {},
   "outputs": [
    {
     "data": {
      "text/plain": [
       "{'iss': 'avilay.rocks', 'iat': 1630747458, 'exp': 1630749258, 'sub': 'one'}"
      ]
     },
     "execution_count": 46,
     "metadata": {},
     "output_type": "execute_result"
    }
   ],
   "source": [
    "jwt.decode(\n",
    "    encoded, \n",
    "    key, \n",
    "    issuer=\"avilay.rocks\", \n",
    "    algorithms=\"HS256\", \n",
    "    options={\n",
    "        \"require\": [\"exp\", \"iss\", \"sub\"]\n",
    "    }\n",
    ")"
   ]
  },
  {
   "cell_type": "code",
   "execution_count": 34,
   "id": "1f46a6ca",
   "metadata": {},
   "outputs": [
    {
     "data": {
      "text/plain": [
       "datetime.datetime(2021, 9, 4, 9, 51, 37, 240642)"
      ]
     },
     "execution_count": 34,
     "metadata": {},
     "output_type": "execute_result"
    }
   ],
   "source": [
    "datetime.utcnow() + timedelta(minutes=30)"
   ]
  },
  {
   "cell_type": "code",
   "execution_count": 12,
   "id": "d826a990",
   "metadata": {},
   "outputs": [],
   "source": [
    "from urllib.parse import urlsplit, urlunsplit, urlparse"
   ]
  },
  {
   "cell_type": "code",
   "execution_count": 20,
   "id": "12279fb6",
   "metadata": {},
   "outputs": [],
   "source": [
    "url = \"https://docs.google.com/presentation/d/1Nckvp6j9tNQOYM8-vfnWrb-nsEz_NgKmmmbRBjYZRKw/edit#slide=id.ge971bb3432_0_0\"\n",
    "url2 = \"https://docs.google.com/presentation/d/1Nckvp6j9tNQOYM8-vfnWrb-nsEz_NgKmmmbRBjYZRKw/#slide=id.ge971bb3432_0_0\""
   ]
  },
  {
   "cell_type": "code",
   "execution_count": 17,
   "id": "69cca44c",
   "metadata": {},
   "outputs": [
    {
     "data": {
      "text/plain": [
       "SplitResult(scheme='https', netloc='docs.google.com', path='/presentation/d/1Nckvp6j9tNQOYM8-vfnWrb-nsEz_NgKmmmbRBjYZRKw/edit', query='', fragment='slide=id.ge971bb3432_0_0')"
      ]
     },
     "execution_count": 17,
     "metadata": {},
     "output_type": "execute_result"
    }
   ],
   "source": [
    "flds = urlsplit(url)\n",
    "flds"
   ]
  },
  {
   "cell_type": "code",
   "execution_count": 14,
   "id": "755f8ff1",
   "metadata": {},
   "outputs": [
    {
     "data": {
      "text/plain": [
       "ParseResult(scheme='https', netloc='docs.google.com', path='/presentation/d/1Nckvp6j9tNQOYM8-vfnWrb-nsEz_NgKmmmbRBjYZRKw/edit', params='', query='', fragment='slide=id.ge971bb3432_0_0')"
      ]
     },
     "execution_count": 14,
     "metadata": {},
     "output_type": "execute_result"
    }
   ],
   "source": [
    "urlparse(url)"
   ]
  },
  {
   "cell_type": "code",
   "execution_count": 11,
   "id": "df739e01",
   "metadata": {},
   "outputs": [
    {
     "data": {
      "text/plain": [
       "'https'"
      ]
     },
     "execution_count": 11,
     "metadata": {},
     "output_type": "execute_result"
    }
   ],
   "source": [
    "flds.scheme, flds.netloc, flds.path, "
   ]
  },
  {
   "cell_type": "code",
   "execution_count": 21,
   "id": "9334d555",
   "metadata": {},
   "outputs": [
    {
     "data": {
      "text/plain": [
       "SplitResult(scheme='https', netloc='docs.google.com', path='/presentation/d/1Nckvp6j9tNQOYM8-vfnWrb-nsEz_NgKmmmbRBjYZRKw/', query='', fragment='slide=id.ge971bb3432_0_0')"
      ]
     },
     "execution_count": 21,
     "metadata": {},
     "output_type": "execute_result"
    }
   ],
   "source": [
    "flds2 = urlsplit(url2)\n",
    "flds2"
   ]
  },
  {
   "cell_type": "code",
   "execution_count": 22,
   "id": "5225cfde",
   "metadata": {},
   "outputs": [
    {
     "data": {
      "text/plain": [
       "'/presentation/d/1Nckvp6j9tNQOYM8-vfnWrb-nsEz_NgKmmmbRBjYZRKw/'"
      ]
     },
     "execution_count": 22,
     "metadata": {},
     "output_type": "execute_result"
    }
   ],
   "source": [
    "flds2.path.replace(\"/edit\", \"/\")"
   ]
  },
  {
   "cell_type": "code",
   "execution_count": 27,
   "id": "8d7d5e6d",
   "metadata": {},
   "outputs": [
    {
     "name": "stdout",
     "output_type": "stream",
     "text": [
      "https://docs.google.com/presentation/d/1Nckvp6j9tNQOYM8-vfnWrb-nsEz_NgKmmmbRBjYZRKw/\n"
     ]
    }
   ],
   "source": [
    "if flds.netloc == \"docs.google.com\":\n",
    "    path = flds.path.replace(\"/edit\", \"/\")\n",
    "    newurl = urlunsplit((flds.scheme, flds.netloc, path, \"\", \"\"))\n",
    "    print(newurl)"
   ]
  },
  {
   "cell_type": "code",
   "execution_count": 28,
   "id": "85f4eb82",
   "metadata": {},
   "outputs": [],
   "source": [
    "ary = [1, 2, 3]"
   ]
  },
  {
   "cell_type": "code",
   "execution_count": 29,
   "id": "8713afac",
   "metadata": {},
   "outputs": [
    {
     "ename": "IndexError",
     "evalue": "list index out of range",
     "output_type": "error",
     "traceback": [
      "\u001b[0;31m---------------------------------------------------------------------------\u001b[0m",
      "\u001b[0;31mIndexError\u001b[0m                                Traceback (most recent call last)",
      "\u001b[0;32m/var/folders/tx/ytrmpxy174lb3bt94dsbrk340000gn/T/ipykernel_55206/3506353164.py\u001b[0m in \u001b[0;36m<module>\u001b[0;34m\u001b[0m\n\u001b[0;32m----> 1\u001b[0;31m \u001b[0mary\u001b[0m\u001b[0;34m[\u001b[0m\u001b[0;36m10\u001b[0m\u001b[0;34m]\u001b[0m\u001b[0;34m\u001b[0m\u001b[0;34m\u001b[0m\u001b[0m\n\u001b[0m",
      "\u001b[0;31mIndexError\u001b[0m: list index out of range"
     ]
    }
   ],
   "source": [
    "ary[10]"
   ]
  },
  {
   "cell_type": "code",
   "execution_count": null,
   "id": "7f9199f8",
   "metadata": {},
   "outputs": [],
   "source": []
  }
 ],
 "metadata": {
  "kernelspec": {
   "display_name": "Python 3 (ipykernel)",
   "language": "python",
   "name": "python3"
  },
  "language_info": {
   "codemirror_mode": {
    "name": "ipython",
    "version": 3
   },
   "file_extension": ".py",
   "mimetype": "text/x-python",
   "name": "python",
   "nbconvert_exporter": "python",
   "pygments_lexer": "ipython3",
   "version": "3.9.6"
  }
 },
 "nbformat": 4,
 "nbformat_minor": 5
}
